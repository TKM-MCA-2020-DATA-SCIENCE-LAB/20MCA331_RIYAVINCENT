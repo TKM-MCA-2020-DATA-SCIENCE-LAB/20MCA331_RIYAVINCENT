{
  "nbformat": 4,
  "nbformat_minor": 0,
  "metadata": {
    "colab": {
      "name": "feedforword.ipynb",
      "provenance": [],
      "collapsed_sections": []
    },
    "kernelspec": {
      "name": "python3",
      "display_name": "Python 3"
    },
    "language_info": {
      "name": "python"
    }
  },
  "cells": [
    {
      "cell_type": "markdown",
      "source": [
        " programs on feed forward netwoprk to classify any standard dataset available in the public domain"
      ],
      "metadata": {
        "id": "mFSsonJ3YwDI"
      }
    },
    {
      "cell_type": "code",
      "source": [
        "import keras\n",
        "from keras.layers import Dense\n",
        "from keras.datasets import mnist\n",
        "from keras.models import Sequential\n",
        "from tensorflow.keras.optimizers import SGD\n",
        "from matplotlib import pyplot as plt"
      ],
      "metadata": {
        "id": "Xcpsg6iEYy08"
      },
      "execution_count": null,
      "outputs": []
    },
    {
      "cell_type": "code",
      "source": [
        "(x_train,y_train),(x_valid,y_valid)=mnist.load_data()"
      ],
      "metadata": {
        "id": "vrOyKGmGZ4rH"
      },
      "execution_count": null,
      "outputs": []
    },
    {
      "cell_type": "code",
      "source": [
        "x_train.shape"
      ],
      "metadata": {
        "id": "FqS5HKmhaxE8",
        "colab": {
          "base_uri": "https://localhost:8080/"
        },
        "outputId": "6b3f81c7-b0bb-4c49-a7d9-813be8020746"
      },
      "execution_count": null,
      "outputs": [
        {
          "output_type": "execute_result",
          "data": {
            "text/plain": [
              "(60000, 28, 28)"
            ]
          },
          "metadata": {},
          "execution_count": 74
        }
      ]
    },
    {
      "cell_type": "code",
      "source": [
        "type(x_train)"
      ],
      "metadata": {
        "id": "1yAUrzA8c7O1",
        "outputId": "ac1c9441-1674-40d5-e9e0-af2d58ea9933",
        "colab": {
          "base_uri": "https://localhost:8080/"
        }
      },
      "execution_count": null,
      "outputs": [
        {
          "output_type": "execute_result",
          "data": {
            "text/plain": [
              "numpy.ndarray"
            ]
          },
          "metadata": {},
          "execution_count": 75
        }
      ]
    },
    {
      "cell_type": "code",
      "source": [
        "y_train.shape"
      ],
      "metadata": {
        "id": "kikf1ePEbfjb",
        "colab": {
          "base_uri": "https://localhost:8080/"
        },
        "outputId": "49040f7c-1b76-4a3f-9573-15ca77e4ab67"
      },
      "execution_count": null,
      "outputs": [
        {
          "output_type": "execute_result",
          "data": {
            "text/plain": [
              "(60000,)"
            ]
          },
          "metadata": {},
          "execution_count": 76
        }
      ]
    },
    {
      "cell_type": "code",
      "source": [
        "y_train[0:15]"
      ],
      "metadata": {
        "id": "9Js9MIfwbyJq",
        "outputId": "9b7727f5-952d-4db4-ecbb-b86192431520",
        "colab": {
          "base_uri": "https://localhost:8080/"
        }
      },
      "execution_count": null,
      "outputs": [
        {
          "output_type": "execute_result",
          "data": {
            "text/plain": [
              "array([5, 0, 4, 1, 9, 2, 1, 3, 1, 4, 3, 5, 3, 6, 1], dtype=uint8)"
            ]
          },
          "metadata": {},
          "execution_count": 77
        }
      ]
    },
    {
      "cell_type": "code",
      "source": [
        "plt.figure(figsize=(5,5))\n",
        "for k in range(20):\n",
        "  plt.subplot(10,2,k+1)\n",
        "  plt.imshow(x_train[k],cmap='Greys_r')\n",
        "  plt.axis('off')\n",
        "plt.show()"
      ],
      "metadata": {
        "colab": {
          "base_uri": "https://localhost:8080/",
          "height": 303
        },
        "id": "ncmdLfXJb8JX",
        "outputId": "2cf2d42a-75da-4674-b75f-0ca79766c848"
      },
      "execution_count": null,
      "outputs": [
        {
          "output_type": "display_data",
          "data": {
            "text/plain": [
              "<Figure size 360x360 with 20 Axes>"
            ],
            "image/png": "[encoded data removed]"
          },
          "metadata": {
            "needs_background": "light"
          }
        }
      ]
    },
    {
      "cell_type": "code",
      "source": [
        "plt.figure(figsize=(5,5))\n",
        "for k in range(20):\n",
        "  plt.subplot(10,2,k+1)\n",
        "  plt.imshow(x_train[k],cmap='Greys')\n",
        "  plt.axis('off')\n",
        "plt.show()"
      ],
      "metadata": {
        "id": "GI2IFvaxcjMZ",
        "colab": {
          "base_uri": "https://localhost:8080/",
          "height": 303
        },
        "outputId": "253a36cd-56ea-4def-bf3a-39e0abeb9bcf"
      },
      "execution_count": null,
      "outputs": [
        {
          "output_type": "display_data",
          "data": {
            "text/plain": [
              "<Figure size 360x360 with 20 Axes>"
            ],
            "image/png": "[encoded data removed]"
          },
          "metadata": {
            "needs_background": "light"
          }
        }
      ]
    },
    {
      "cell_type": "code",
      "source": [
        "plt.figure(figsize=(5,5))\n",
        "for k in range(20):\n",
        "  plt.subplot(10,2,k+1)\n",
        "  plt.imshow(x_train[k],cmap='Greys')\n",
        "  plt.axis('on')\n",
        "plt.show()"
      ],
      "metadata": {
        "colab": {
          "base_uri": "https://localhost:8080/",
          "height": 323
        },
        "outputId": "faa992ad-016a-4e73-fc15-a8d997dafe7a",
        "id": "rk5kqJH7ewcW"
      },
      "execution_count": null,
      "outputs": [
        {
          "output_type": "display_data",
          "data": {
            "text/plain": [
              "<Figure size 360x360 with 20 Axes>"
            ],
            "image/png": "[encoded data removed]"
          },
          "metadata": {
            "needs_background": "light"
          }
        }
      ]
    },
    {
      "cell_type": "code",
      "source": [
        "plt.imshow(x_valid[0],cmap='Greys')"
      ],
      "metadata": {
        "colab": {
          "base_uri": "https://localhost:8080/",
          "height": 283
        },
        "id": "EipBje85e5vr",
        "outputId": "4ac8725b-bc1e-4b5d-b47d-a97e201990f9"
      },
      "execution_count": null,
      "outputs": [
        {
          "output_type": "execute_result",
          "data": {
            "text/plain": [
              "<matplotlib.image.AxesImage at 0x7fef9defaf90>"
            ]
          },
          "metadata": {},
          "execution_count": 88
        },
        {
          "output_type": "display_data",
          "data": {
            "text/plain": [
              "<Figure size 432x288 with 1 Axes>"
            ],
            "image/png": "[encoded data removed]"
          },
          "metadata": {
            "needs_background": "light"
          }
        }
      ]
    },
    {
      "cell_type": "code",
      "source": [
        "x_train=x_train.reshape(60000,784).astype('float32')\n",
        "x_valid=x_valid.reshape(10000,784).astype('float32')"
      ],
      "metadata": {
        "id": "PrfNJ7_SgPNs"
      },
      "execution_count": null,
      "outputs": []
    },
    {
      "cell_type": "code",
      "source": [
        "x_train/=255\n",
        "x_valid/=255\n",
        "x_train[0]"
      ],
      "metadata": {
        "colab": {
          "base_uri": "https://localhost:8080/"
        },
        "id": "kSuencYhgwqo",
        "outputId": "c3deb223-4b70-41de-8397-ff887f11f78e"
      },
      "execution_count": null,
      "outputs": [
        {
          "output_type": "execute_result",
          "data": {
            "text/plain": [
              "array([0.        , 0.        , 0.        , 0.        , 0.        ,\n",
              "       0.        , 0.        , 0.        , 0.        , 0.        ,\n",
              "       0.        , 0.        , 0.        , 0.        , 0.        ,\n",
              "       0.        , 0.        , 0.        , 0.        , 0.        ,\n",
              "       0.        , 0.        , 0.        , 0.        , 0.        ,\n",
              "       0.        , 0.        , 0.        , 0.        , 0.        ,\n",
              "       0.        , 0.        , 0.        , 0.        , 0.        ,\n",
              "       0.        , 0.        , 0.        , 0.        , 0.        ,\n",
              "       0.        , 0.        , 0.        , 0.        , 0.        ,\n",
              "       0.        , 0.        , 0.        , 0.        , 0.        ,\n",
              "       0.        , 0.        , 0.        , 0.        , 0.        ,\n",
              "       0.        , 0.        , 0.        , 0.        , 0.        ,\n",
              "       0.        , 0.        , 0.        , 0.        , 0.        ,\n",
              "       0.        , 0.        , 0.        , 0.        , 0.        ,\n",
              "       0.        , 0.        , 0.        , 0.        , 0.        ,\n",
              "       0.        , 0.        , 0.        , 0.        , 0.        ,\n",
              "       0.        , 0.        , 0.        , 0.        , 0.        ,\n",
              "       0.        , 0.        , 0.        , 0.        , 0.        ,\n",
              "       0.        , 0.        , 0.        , 0.        , 0.        ,\n",
              "       0.        , 0.        , 0.        , 0.        , 0.        ,\n",
              "       0.        , 0.        , 0.        , 0.        , 0.        ,\n",
              "       0.        , 0.        , 0.        , 0.        , 0.        ,\n",
              "       0.        , 0.        , 0.        , 0.        , 0.        ,\n",
              "       0.        , 0.        , 0.        , 0.        , 0.        ,\n",
              "       0.        , 0.        , 0.        , 0.        , 0.        ,\n",
              "       0.        , 0.        , 0.        , 0.        , 0.        ,\n",
              "       0.        , 0.        , 0.        , 0.        , 0.        ,\n",
              "       0.        , 0.        , 0.        , 0.        , 0.        ,\n",
              "       0.        , 0.        , 0.        , 0.        , 0.        ,\n",
              "       0.        , 0.        , 0.        , 0.        , 0.        ,\n",
              "       0.        , 0.        , 0.01176471, 0.07058824, 0.07058824,\n",
              "       0.07058824, 0.49411765, 0.53333336, 0.6862745 , 0.10196079,\n",
              "       0.6509804 , 1.        , 0.96862745, 0.49803922, 0.        ,\n",
              "       0.        , 0.        , 0.        , 0.        , 0.        ,\n",
              "       0.        , 0.        , 0.        , 0.        , 0.        ,\n",
              "       0.        , 0.11764706, 0.14117648, 0.36862746, 0.6039216 ,\n",
              "       0.6666667 , 0.99215686, 0.99215686, 0.99215686, 0.99215686,\n",
              "       0.99215686, 0.88235295, 0.6745098 , 0.99215686, 0.9490196 ,\n",
              "       0.7647059 , 0.2509804 , 0.        , 0.        , 0.        ,\n",
              "       0.        , 0.        , 0.        , 0.        , 0.        ,\n",
              "       0.        , 0.        , 0.        , 0.19215687, 0.93333334,\n",
              "       0.99215686, 0.99215686, 0.99215686, 0.99215686, 0.99215686,\n",
              "       0.99215686, 0.99215686, 0.99215686, 0.9843137 , 0.3647059 ,\n",
              "       0.32156864, 0.32156864, 0.21960784, 0.15294118, 0.        ,\n",
              "       0.        , 0.        , 0.        , 0.        , 0.        ,\n",
              "       0.        , 0.        , 0.        , 0.        , 0.        ,\n",
              "       0.        , 0.07058824, 0.85882354, 0.99215686, 0.99215686,\n",
              "       0.99215686, 0.99215686, 0.99215686, 0.7764706 , 0.7137255 ,\n",
              "       0.96862745, 0.94509804, 0.        , 0.        , 0.        ,\n",
              "       0.        , 0.        , 0.        , 0.        , 0.        ,\n",
              "       0.        , 0.        , 0.        , 0.        , 0.        ,\n",
              "       0.        , 0.        , 0.        , 0.        , 0.        ,\n",
              "       0.3137255 , 0.6117647 , 0.41960785, 0.99215686, 0.99215686,\n",
              "       0.8039216 , 0.04313726, 0.        , 0.16862746, 0.6039216 ,\n",
              "       0.        , 0.        , 0.        , 0.        , 0.        ,\n",
              "       0.        , 0.        , 0.        , 0.        , 0.        ,\n",
              "       0.        , 0.        , 0.        , 0.        , 0.        ,\n",
              "       0.        , 0.        , 0.        , 0.        , 0.05490196,\n",
              "       0.00392157, 0.6039216 , 0.99215686, 0.3529412 , 0.        ,\n",
              "       0.        , 0.        , 0.        , 0.        , 0.        ,\n",
              "       0.        , 0.        , 0.        , 0.        , 0.        ,\n",
              "       0.        , 0.        , 0.        , 0.        , 0.        ,\n",
              "       0.        , 0.        , 0.        , 0.        , 0.        ,\n",
              "       0.        , 0.        , 0.        , 0.        , 0.54509807,\n",
              "       0.99215686, 0.74509805, 0.00784314, 0.        , 0.        ,\n",
              "       0.        , 0.        , 0.        , 0.        , 0.        ,\n",
              "       0.        , 0.        , 0.        , 0.        , 0.        ,\n",
              "       0.        , 0.        , 0.        , 0.        , 0.        ,\n",
              "       0.        , 0.        , 0.        , 0.        , 0.        ,\n",
              "       0.        , 0.        , 0.04313726, 0.74509805, 0.99215686,\n",
              "       0.27450982, 0.        , 0.        , 0.        , 0.        ,\n",
              "       0.        , 0.        , 0.        , 0.        , 0.        ,\n",
              "       0.        , 0.        , 0.        , 0.        , 0.        ,\n",
              "       0.        , 0.        , 0.        , 0.        , 0.        ,\n",
              "       0.        , 0.        , 0.        , 0.        , 0.        ,\n",
              "       0.        , 0.13725491, 0.94509804, 0.88235295, 0.627451  ,\n",
              "       0.42352942, 0.00392157, 0.        , 0.        , 0.        ,\n",
              "       0.        , 0.        , 0.        , 0.        , 0.        ,\n",
              "       0.        , 0.        , 0.        , 0.        , 0.        ,\n",
              "       0.        , 0.        , 0.        , 0.        , 0.        ,\n",
              "       0.        , 0.        , 0.        , 0.        , 0.        ,\n",
              "       0.31764707, 0.9411765 , 0.99215686, 0.99215686, 0.46666667,\n",
              "       0.09803922, 0.        , 0.        , 0.        , 0.        ,\n",
              "       0.        , 0.        , 0.        , 0.        , 0.        ,\n",
              "       0.        , 0.        , 0.        , 0.        , 0.        ,\n",
              "       0.        , 0.        , 0.        , 0.        , 0.        ,\n",
              "       0.        , 0.        , 0.        , 0.        , 0.1764706 ,\n",
              "       0.7294118 , 0.99215686, 0.99215686, 0.5882353 , 0.10588235,\n",
              "       0.        , 0.        , 0.        , 0.        , 0.        ,\n",
              "       0.        , 0.        , 0.        , 0.        , 0.        ,\n",
              "       0.        , 0.        , 0.        , 0.        , 0.        ,\n",
              "       0.        , 0.        , 0.        , 0.        , 0.        ,\n",
              "       0.        , 0.        , 0.        , 0.0627451 , 0.3647059 ,\n",
              "       0.9882353 , 0.99215686, 0.73333335, 0.        , 0.        ,\n",
              "       0.        , 0.        , 0.        , 0.        , 0.        ,\n",
              "       0.        , 0.        , 0.        , 0.        , 0.        ,\n",
              "       0.        , 0.        , 0.        , 0.        , 0.        ,\n",
              "       0.        , 0.        , 0.        , 0.        , 0.        ,\n",
              "       0.        , 0.        , 0.        , 0.9764706 , 0.99215686,\n",
              "       0.9764706 , 0.2509804 , 0.        , 0.        , 0.        ,\n",
              "       0.        , 0.        , 0.        , 0.        , 0.        ,\n",
              "       0.        , 0.        , 0.        , 0.        , 0.        ,\n",
              "       0.        , 0.        , 0.        , 0.        , 0.        ,\n",
              "       0.        , 0.        , 0.        , 0.18039216, 0.50980395,\n",
              "       0.7176471 , 0.99215686, 0.99215686, 0.8117647 , 0.00784314,\n",
              "       0.        , 0.        , 0.        , 0.        , 0.        ,\n",
              "       0.        , 0.        , 0.        , 0.        , 0.        ,\n",
              "       0.        , 0.        , 0.        , 0.        , 0.        ,\n",
              "       0.        , 0.        , 0.        , 0.        , 0.15294118,\n",
              "       0.5803922 , 0.8980392 , 0.99215686, 0.99215686, 0.99215686,\n",
              "       0.98039216, 0.7137255 , 0.        , 0.        , 0.        ,\n",
              "       0.        , 0.        , 0.        , 0.        , 0.        ,\n",
              "       0.        , 0.        , 0.        , 0.        , 0.        ,\n",
              "       0.        , 0.        , 0.        , 0.        , 0.        ,\n",
              "       0.09411765, 0.44705883, 0.8666667 , 0.99215686, 0.99215686,\n",
              "       0.99215686, 0.99215686, 0.7882353 , 0.30588236, 0.        ,\n",
              "       0.        , 0.        , 0.        , 0.        , 0.        ,\n",
              "       0.        , 0.        , 0.        , 0.        , 0.        ,\n",
              "       0.        , 0.        , 0.        , 0.        , 0.        ,\n",
              "       0.        , 0.09019608, 0.25882354, 0.8352941 , 0.99215686,\n",
              "       0.99215686, 0.99215686, 0.99215686, 0.7764706 , 0.31764707,\n",
              "       0.00784314, 0.        , 0.        , 0.        , 0.        ,\n",
              "       0.        , 0.        , 0.        , 0.        , 0.        ,\n",
              "       0.        , 0.        , 0.        , 0.        , 0.        ,\n",
              "       0.        , 0.        , 0.07058824, 0.67058825, 0.85882354,\n",
              "       0.99215686, 0.99215686, 0.99215686, 0.99215686, 0.7647059 ,\n",
              "       0.3137255 , 0.03529412, 0.        , 0.        , 0.        ,\n",
              "       0.        , 0.        , 0.        , 0.        , 0.        ,\n",
              "       0.        , 0.        , 0.        , 0.        , 0.        ,\n",
              "       0.        , 0.        , 0.        , 0.21568628, 0.6745098 ,\n",
              "       0.8862745 , 0.99215686, 0.99215686, 0.99215686, 0.99215686,\n",
              "       0.95686275, 0.52156866, 0.04313726, 0.        , 0.        ,\n",
              "       0.        , 0.        , 0.        , 0.        , 0.        ,\n",
              "       0.        , 0.        , 0.        , 0.        , 0.        ,\n",
              "       0.        , 0.        , 0.        , 0.        , 0.        ,\n",
              "       0.        , 0.53333336, 0.99215686, 0.99215686, 0.99215686,\n",
              "       0.83137256, 0.5294118 , 0.5176471 , 0.0627451 , 0.        ,\n",
              "       0.        , 0.        , 0.        , 0.        , 0.        ,\n",
              "       0.        , 0.        , 0.        , 0.        , 0.        ,\n",
              "       0.        , 0.        , 0.        , 0.        , 0.        ,\n",
              "       0.        , 0.        , 0.        , 0.        , 0.        ,\n",
              "       0.        , 0.        , 0.        , 0.        , 0.        ,\n",
              "       0.        , 0.        , 0.        , 0.        , 0.        ,\n",
              "       0.        , 0.        , 0.        , 0.        , 0.        ,\n",
              "       0.        , 0.        , 0.        , 0.        , 0.        ,\n",
              "       0.        , 0.        , 0.        , 0.        , 0.        ,\n",
              "       0.        , 0.        , 0.        , 0.        , 0.        ,\n",
              "       0.        , 0.        , 0.        , 0.        , 0.        ,\n",
              "       0.        , 0.        , 0.        , 0.        , 0.        ,\n",
              "       0.        , 0.        , 0.        , 0.        , 0.        ,\n",
              "       0.        , 0.        , 0.        , 0.        , 0.        ,\n",
              "       0.        , 0.        , 0.        , 0.        , 0.        ,\n",
              "       0.        , 0.        , 0.        , 0.        , 0.        ,\n",
              "       0.        , 0.        , 0.        , 0.        , 0.        ,\n",
              "       0.        , 0.        , 0.        , 0.        , 0.        ,\n",
              "       0.        , 0.        , 0.        , 0.        , 0.        ,\n",
              "       0.        , 0.        , 0.        , 0.        ], dtype=float32)"
            ]
          },
          "metadata": {},
          "execution_count": 97
        }
      ]
    },
    {
      "cell_type": "code",
      "source": [
        "from keras import utils as np_utils\n",
        "n_classes=10\n",
        "\n",
        "y_train=keras.utils.np_utils.to_categorical(y_train,n_classes)\n",
        "y_valid=keras.utils.np_utils.to_categorical(y_valid,n_classes)"
      ],
      "metadata": {
        "id": "9mWVmyRmg5-n"
      },
      "execution_count": null,
      "outputs": []
    },
    {
      "cell_type": "code",
      "source": [
        "y_valid[0]"
      ],
      "metadata": {
        "colab": {
          "base_uri": "https://localhost:8080/"
        },
        "id": "AkrmTCGmhGTZ",
        "outputId": "00300c4a-016b-4024-cf9d-23802cfba80f"
      },
      "execution_count": null,
      "outputs": [
        {
          "output_type": "execute_result",
          "data": {
            "text/plain": [
              "array([0., 0., 0., 0., 0., 0., 0., 1., 0., 0.], dtype=float32)"
            ]
          },
          "metadata": {},
          "execution_count": 102
        }
      ]
    },
    {
      "cell_type": "code",
      "source": [
        "y_train[0]"
      ],
      "metadata": {
        "colab": {
          "base_uri": "https://localhost:8080/"
        },
        "id": "Y0NSAepRhK2r",
        "outputId": "0ce48374-406a-4ae5-8eb5-8b9ee4f44891"
      },
      "execution_count": null,
      "outputs": [
        {
          "output_type": "execute_result",
          "data": {
            "text/plain": [
              "array([0., 0., 0., 0., 0., 1., 0., 0., 0., 0.], dtype=float32)"
            ]
          },
          "metadata": {},
          "execution_count": 103
        }
      ]
    },
    {
      "cell_type": "code",
      "source": [
        "x_valid[3]"
      ],
      "metadata": {
        "colab": {
          "base_uri": "https://localhost:8080/"
        },
        "id": "w4REO2PehNfK",
        "outputId": "17976bc9-2dac-4703-fbb2-e90f31609106"
      },
      "execution_count": null,
      "outputs": [
        {
          "output_type": "execute_result",
          "data": {
            "text/plain": [
              "array([0.0000000e+00, 0.0000000e+00, 0.0000000e+00, 0.0000000e+00,\n",
              "       0.0000000e+00, 0.0000000e+00, 0.0000000e+00, 0.0000000e+00,\n",
              "       0.0000000e+00, 0.0000000e+00, 0.0000000e+00, 0.0000000e+00,\n",
              "       0.0000000e+00, 0.0000000e+00, 0.0000000e+00, 0.0000000e+00,\n",
              "       0.0000000e+00, 0.0000000e+00, 0.0000000e+00, 0.0000000e+00,\n",
              "       0.0000000e+00, 0.0000000e+00, 0.0000000e+00, 0.0000000e+00,\n",
              "       0.0000000e+00, 0.0000000e+00, 0.0000000e+00, 0.0000000e+00,\n",
              "       0.0000000e+00, 0.0000000e+00, 0.0000000e+00, 0.0000000e+00,\n",
              "       0.0000000e+00, 0.0000000e+00, 0.0000000e+00, 0.0000000e+00,\n",
              "       0.0000000e+00, 0.0000000e+00, 0.0000000e+00, 0.0000000e+00,\n",
              "       0.0000000e+00, 0.0000000e+00, 0.0000000e+00, 0.0000000e+00,\n",
              "       0.0000000e+00, 0.0000000e+00, 0.0000000e+00, 0.0000000e+00,\n",
              "       0.0000000e+00, 0.0000000e+00, 0.0000000e+00, 0.0000000e+00,\n",
              "       0.0000000e+00, 0.0000000e+00, 0.0000000e+00, 0.0000000e+00,\n",
              "       0.0000000e+00, 0.0000000e+00, 0.0000000e+00, 0.0000000e+00,\n",
              "       0.0000000e+00, 0.0000000e+00, 0.0000000e+00, 0.0000000e+00,\n",
              "       0.0000000e+00, 0.0000000e+00, 0.0000000e+00, 0.0000000e+00,\n",
              "       0.0000000e+00, 0.0000000e+00, 0.0000000e+00, 0.0000000e+00,\n",
              "       0.0000000e+00, 0.0000000e+00, 0.0000000e+00, 0.0000000e+00,\n",
              "       0.0000000e+00, 0.0000000e+00, 0.0000000e+00, 0.0000000e+00,\n",
              "       0.0000000e+00, 0.0000000e+00, 0.0000000e+00, 0.0000000e+00,\n",
              "       0.0000000e+00, 0.0000000e+00, 0.0000000e+00, 0.0000000e+00,\n",
              "       0.0000000e+00, 0.0000000e+00, 0.0000000e+00, 0.0000000e+00,\n",
              "       0.0000000e+00, 0.0000000e+00, 0.0000000e+00, 0.0000000e+00,\n",
              "       0.0000000e+00, 0.0000000e+00, 0.0000000e+00, 0.0000000e+00,\n",
              "       0.0000000e+00, 0.0000000e+00, 0.0000000e+00, 0.0000000e+00,\n",
              "       0.0000000e+00, 0.0000000e+00, 0.0000000e+00, 0.0000000e+00,\n",
              "       0.0000000e+00, 0.0000000e+00, 0.0000000e+00, 0.0000000e+00,\n",
              "       0.0000000e+00, 0.0000000e+00, 0.0000000e+00, 0.0000000e+00,\n",
              "       0.0000000e+00, 0.0000000e+00, 0.0000000e+00, 0.0000000e+00,\n",
              "       0.0000000e+00, 0.0000000e+00, 0.0000000e+00, 0.0000000e+00,\n",
              "       1.6916571e-04, 2.3068052e-03, 3.8908112e-03, 3.1064975e-03,\n",
              "       4.7673972e-04, 0.0000000e+00, 0.0000000e+00, 0.0000000e+00,\n",
              "       0.0000000e+00, 0.0000000e+00, 0.0000000e+00, 0.0000000e+00,\n",
              "       0.0000000e+00, 0.0000000e+00, 0.0000000e+00, 0.0000000e+00,\n",
              "       0.0000000e+00, 0.0000000e+00, 0.0000000e+00, 0.0000000e+00,\n",
              "       0.0000000e+00, 0.0000000e+00, 0.0000000e+00, 0.0000000e+00,\n",
              "       0.0000000e+00, 0.0000000e+00, 0.0000000e+00, 0.0000000e+00,\n",
              "       5.6901196e-04, 3.8600538e-03, 3.8600538e-03, 3.8908112e-03,\n",
              "       1.6455210e-03, 0.0000000e+00, 0.0000000e+00, 0.0000000e+00,\n",
              "       0.0000000e+00, 0.0000000e+00, 0.0000000e+00, 0.0000000e+00,\n",
              "       0.0000000e+00, 0.0000000e+00, 0.0000000e+00, 0.0000000e+00,\n",
              "       0.0000000e+00, 0.0000000e+00, 0.0000000e+00, 0.0000000e+00,\n",
              "       0.0000000e+00, 0.0000000e+00, 0.0000000e+00, 0.0000000e+00,\n",
              "       0.0000000e+00, 0.0000000e+00, 0.0000000e+00, 3.2295272e-04,\n",
              "       3.0296040e-03, 3.8600538e-03, 3.8600538e-03, 3.8908112e-03,\n",
              "       1.6455210e-03, 0.0000000e+00, 0.0000000e+00, 0.0000000e+00,\n",
              "       0.0000000e+00, 0.0000000e+00, 0.0000000e+00, 0.0000000e+00,\n",
              "       0.0000000e+00, 0.0000000e+00, 0.0000000e+00, 0.0000000e+00,\n",
              "       0.0000000e+00, 0.0000000e+00, 0.0000000e+00, 0.0000000e+00,\n",
              "       0.0000000e+00, 0.0000000e+00, 0.0000000e+00, 0.0000000e+00,\n",
              "       0.0000000e+00, 0.0000000e+00, 1.6916571e-03, 2.9219531e-03,\n",
              "       3.8600538e-03, 3.8600538e-03, 3.8600538e-03, 3.8908112e-03,\n",
              "       2.5990005e-03, 1.6762784e-03, 9.5347944e-04, 0.0000000e+00,\n",
              "       0.0000000e+00, 0.0000000e+00, 0.0000000e+00, 0.0000000e+00,\n",
              "       0.0000000e+00, 0.0000000e+00, 0.0000000e+00, 0.0000000e+00,\n",
              "       0.0000000e+00, 0.0000000e+00, 0.0000000e+00, 0.0000000e+00,\n",
              "       0.0000000e+00, 0.0000000e+00, 0.0000000e+00, 0.0000000e+00,\n",
              "       0.0000000e+00, 0.0000000e+00, 3.8908112e-03, 3.8600538e-03,\n",
              "       3.8600538e-03, 3.8600538e-03, 3.8600538e-03, 3.8908112e-03,\n",
              "       3.8600538e-03, 3.8600538e-03, 3.3833142e-03, 7.8431371e-04,\n",
              "       0.0000000e+00, 0.0000000e+00, 0.0000000e+00, 0.0000000e+00,\n",
              "       0.0000000e+00, 0.0000000e+00, 0.0000000e+00, 0.0000000e+00,\n",
              "       0.0000000e+00, 0.0000000e+00, 0.0000000e+00, 0.0000000e+00,\n",
              "       0.0000000e+00, 0.0000000e+00, 0.0000000e+00, 0.0000000e+00,\n",
              "       0.0000000e+00, 2.7989235e-03, 3.9215689e-03, 3.8908112e-03,\n",
              "       3.8908112e-03, 3.8908112e-03, 3.8908112e-03, 3.5986160e-03,\n",
              "       3.4140716e-03, 3.8908112e-03, 3.8908112e-03, 3.8908112e-03,\n",
              "       0.0000000e+00, 0.0000000e+00, 0.0000000e+00, 0.0000000e+00,\n",
              "       0.0000000e+00, 0.0000000e+00, 0.0000000e+00, 0.0000000e+00,\n",
              "       0.0000000e+00, 0.0000000e+00, 0.0000000e+00, 0.0000000e+00,\n",
              "       0.0000000e+00, 0.0000000e+00, 0.0000000e+00, 0.0000000e+00,\n",
              "       9.6885813e-04, 3.3986929e-03, 3.8908112e-03, 3.8600538e-03,\n",
              "       3.8600538e-03, 3.8600538e-03, 2.2606691e-03, 1.1841600e-03,\n",
              "       9.5347944e-04, 1.9684739e-03, 3.8600538e-03, 3.8600538e-03,\n",
              "       1.6147635e-03, 0.0000000e+00, 0.0000000e+00, 0.0000000e+00,\n",
              "       0.0000000e+00, 0.0000000e+00, 0.0000000e+00, 0.0000000e+00,\n",
              "       0.0000000e+00, 0.0000000e+00, 0.0000000e+00, 0.0000000e+00,\n",
              "       0.0000000e+00, 0.0000000e+00, 0.0000000e+00, 4.9211847e-04,\n",
              "       3.5524799e-03, 3.8600538e-03, 3.8908112e-03, 3.8600538e-03,\n",
              "       3.3833142e-03, 2.1068822e-03, 1.5378701e-04, 0.0000000e+00,\n",
              "       0.0000000e+00, 4.7673972e-04, 3.5371012e-03, 3.8600538e-03,\n",
              "       3.7370243e-03, 1.7377932e-03, 7.6893506e-05, 0.0000000e+00,\n",
              "       0.0000000e+00, 0.0000000e+00, 0.0000000e+00, 0.0000000e+00,\n",
              "       0.0000000e+00, 0.0000000e+00, 0.0000000e+00, 0.0000000e+00,\n",
              "       0.0000000e+00, 0.0000000e+00, 0.0000000e+00, 5.6901196e-04,\n",
              "       3.8600538e-03, 3.8600538e-03, 3.8908112e-03, 2.8911957e-03,\n",
              "       3.0757402e-04, 0.0000000e+00, 0.0000000e+00, 0.0000000e+00,\n",
              "       0.0000000e+00, 0.0000000e+00, 1.6762784e-03, 3.8600538e-03,\n",
              "       3.8908112e-03, 3.8600538e-03, 5.3825456e-04, 0.0000000e+00,\n",
              "       0.0000000e+00, 0.0000000e+00, 0.0000000e+00, 0.0000000e+00,\n",
              "       0.0000000e+00, 0.0000000e+00, 0.0000000e+00, 0.0000000e+00,\n",
              "       0.0000000e+00, 0.0000000e+00, 0.0000000e+00, 5.6901196e-04,\n",
              "       3.8600538e-03, 3.8600538e-03, 3.0911188e-03, 4.6136102e-04,\n",
              "       0.0000000e+00, 0.0000000e+00, 0.0000000e+00, 0.0000000e+00,\n",
              "       0.0000000e+00, 0.0000000e+00, 4.7673972e-04, 3.0757401e-03,\n",
              "       3.8908112e-03, 3.8600538e-03, 5.3825456e-04, 0.0000000e+00,\n",
              "       0.0000000e+00, 0.0000000e+00, 0.0000000e+00, 0.0000000e+00,\n",
              "       0.0000000e+00, 0.0000000e+00, 0.0000000e+00, 0.0000000e+00,\n",
              "       0.0000000e+00, 0.0000000e+00, 0.0000000e+00, 5.6901196e-04,\n",
              "       3.8908112e-03, 3.8908112e-03, 0.0000000e+00, 0.0000000e+00,\n",
              "       0.0000000e+00, 0.0000000e+00, 0.0000000e+00, 0.0000000e+00,\n",
              "       0.0000000e+00, 0.0000000e+00, 4.9211847e-04, 3.1064975e-03,\n",
              "       3.9215689e-03, 3.8908112e-03, 2.5221070e-03, 0.0000000e+00,\n",
              "       0.0000000e+00, 0.0000000e+00, 0.0000000e+00, 0.0000000e+00,\n",
              "       0.0000000e+00, 0.0000000e+00, 0.0000000e+00, 0.0000000e+00,\n",
              "       0.0000000e+00, 0.0000000e+00, 0.0000000e+00, 2.1530183e-03,\n",
              "       3.8600538e-03, 3.8600538e-03, 0.0000000e+00, 0.0000000e+00,\n",
              "       0.0000000e+00, 0.0000000e+00, 0.0000000e+00, 0.0000000e+00,\n",
              "       0.0000000e+00, 0.0000000e+00, 1.6762784e-03, 3.8600538e-03,\n",
              "       3.8908112e-03, 3.8600538e-03, 5.3825456e-04, 0.0000000e+00,\n",
              "       0.0000000e+00, 0.0000000e+00, 0.0000000e+00, 0.0000000e+00,\n",
              "       0.0000000e+00, 0.0000000e+00, 0.0000000e+00, 0.0000000e+00,\n",
              "       0.0000000e+00, 0.0000000e+00, 0.0000000e+00, 3.3371781e-03,\n",
              "       3.8600538e-03, 3.8600538e-03, 0.0000000e+00, 0.0000000e+00,\n",
              "       0.0000000e+00, 0.0000000e+00, 0.0000000e+00, 0.0000000e+00,\n",
              "       3.2295272e-04, 9.6885813e-04, 3.5524799e-03, 3.8600538e-03,\n",
              "       3.8908112e-03, 3.5371012e-03, 4.6136102e-04, 0.0000000e+00,\n",
              "       0.0000000e+00, 0.0000000e+00, 0.0000000e+00, 0.0000000e+00,\n",
              "       0.0000000e+00, 0.0000000e+00, 0.0000000e+00, 0.0000000e+00,\n",
              "       0.0000000e+00, 0.0000000e+00, 0.0000000e+00, 3.3371781e-03,\n",
              "       3.8600538e-03, 3.8600538e-03, 0.0000000e+00, 0.0000000e+00,\n",
              "       0.0000000e+00, 0.0000000e+00, 0.0000000e+00, 0.0000000e+00,\n",
              "       2.2145330e-03, 3.8600538e-03, 3.8600538e-03, 3.8600538e-03,\n",
              "       3.3986929e-03, 9.3810074e-04, 0.0000000e+00, 0.0000000e+00,\n",
              "       0.0000000e+00, 0.0000000e+00, 0.0000000e+00, 0.0000000e+00,\n",
              "       0.0000000e+00, 0.0000000e+00, 0.0000000e+00, 0.0000000e+00,\n",
              "       0.0000000e+00, 0.0000000e+00, 0.0000000e+00, 3.3371781e-03,\n",
              "       3.8600538e-03, 3.8600538e-03, 0.0000000e+00, 0.0000000e+00,\n",
              "       0.0000000e+00, 0.0000000e+00, 0.0000000e+00, 2.7989235e-03,\n",
              "       3.3986929e-03, 3.8600538e-03, 3.8600538e-03, 3.8600538e-03,\n",
              "       2.7681661e-03, 0.0000000e+00, 0.0000000e+00, 0.0000000e+00,\n",
              "       0.0000000e+00, 0.0000000e+00, 0.0000000e+00, 0.0000000e+00,\n",
              "       0.0000000e+00, 0.0000000e+00, 0.0000000e+00, 0.0000000e+00,\n",
              "       0.0000000e+00, 0.0000000e+00, 0.0000000e+00, 3.3525568e-03,\n",
              "       3.8908112e-03, 3.8908112e-03, 1.1226452e-03, 1.1226452e-03,\n",
              "       3.5063438e-03, 3.8908112e-03, 3.8908112e-03, 3.9215689e-03,\n",
              "       3.8908112e-03, 3.8908112e-03, 3.8908112e-03, 3.8908112e-03,\n",
              "       0.0000000e+00, 0.0000000e+00, 0.0000000e+00, 0.0000000e+00,\n",
              "       0.0000000e+00, 0.0000000e+00, 0.0000000e+00, 0.0000000e+00,\n",
              "       0.0000000e+00, 0.0000000e+00, 0.0000000e+00, 0.0000000e+00,\n",
              "       0.0000000e+00, 0.0000000e+00, 0.0000000e+00, 1.7377932e-03,\n",
              "       3.8600538e-03, 3.8600538e-03, 3.8908112e-03, 3.8600538e-03,\n",
              "       3.8600538e-03, 3.8600538e-03, 3.8600538e-03, 3.8908112e-03,\n",
              "       3.8600538e-03, 3.8600538e-03, 3.8600538e-03, 2.2606691e-03,\n",
              "       0.0000000e+00, 0.0000000e+00, 0.0000000e+00, 0.0000000e+00,\n",
              "       0.0000000e+00, 0.0000000e+00, 0.0000000e+00, 0.0000000e+00,\n",
              "       0.0000000e+00, 0.0000000e+00, 0.0000000e+00, 0.0000000e+00,\n",
              "       0.0000000e+00, 0.0000000e+00, 0.0000000e+00, 4.7673972e-04,\n",
              "       3.5371012e-03, 3.8600538e-03, 3.8908112e-03, 3.8600538e-03,\n",
              "       3.8600538e-03, 3.8600538e-03, 3.8600538e-03, 3.8908112e-03,\n",
              "       3.5371012e-03, 2.9065744e-03, 5.3825456e-04, 1.5378701e-04,\n",
              "       0.0000000e+00, 0.0000000e+00, 0.0000000e+00, 0.0000000e+00,\n",
              "       0.0000000e+00, 0.0000000e+00, 0.0000000e+00, 0.0000000e+00,\n",
              "       0.0000000e+00, 0.0000000e+00, 0.0000000e+00, 0.0000000e+00,\n",
              "       0.0000000e+00, 0.0000000e+00, 0.0000000e+00, 0.0000000e+00,\n",
              "       9.5347944e-04, 2.1837757e-03, 3.8908112e-03, 3.8600538e-03,\n",
              "       3.8600538e-03, 3.8600538e-03, 3.8600538e-03, 3.8908112e-03,\n",
              "       1.6455210e-03, 0.0000000e+00, 0.0000000e+00, 0.0000000e+00,\n",
              "       0.0000000e+00, 0.0000000e+00, 0.0000000e+00, 0.0000000e+00,\n",
              "       0.0000000e+00, 0.0000000e+00, 0.0000000e+00, 0.0000000e+00,\n",
              "       0.0000000e+00, 0.0000000e+00, 0.0000000e+00, 0.0000000e+00,\n",
              "       0.0000000e+00, 0.0000000e+00, 0.0000000e+00, 0.0000000e+00,\n",
              "       0.0000000e+00, 0.0000000e+00, 1.1072665e-03, 2.6758939e-03,\n",
              "       3.8600538e-03, 2.6605153e-03, 1.0918878e-03, 1.1072665e-03,\n",
              "       4.6136102e-04, 0.0000000e+00, 0.0000000e+00, 0.0000000e+00,\n",
              "       0.0000000e+00, 0.0000000e+00, 0.0000000e+00, 0.0000000e+00,\n",
              "       0.0000000e+00, 0.0000000e+00, 0.0000000e+00, 0.0000000e+00,\n",
              "       0.0000000e+00, 0.0000000e+00, 0.0000000e+00, 0.0000000e+00,\n",
              "       0.0000000e+00, 0.0000000e+00, 0.0000000e+00, 0.0000000e+00,\n",
              "       0.0000000e+00, 0.0000000e+00, 0.0000000e+00, 0.0000000e+00,\n",
              "       0.0000000e+00, 0.0000000e+00, 0.0000000e+00, 0.0000000e+00,\n",
              "       0.0000000e+00, 0.0000000e+00, 0.0000000e+00, 0.0000000e+00,\n",
              "       0.0000000e+00, 0.0000000e+00, 0.0000000e+00, 0.0000000e+00,\n",
              "       0.0000000e+00, 0.0000000e+00, 0.0000000e+00, 0.0000000e+00,\n",
              "       0.0000000e+00, 0.0000000e+00, 0.0000000e+00, 0.0000000e+00,\n",
              "       0.0000000e+00, 0.0000000e+00, 0.0000000e+00, 0.0000000e+00,\n",
              "       0.0000000e+00, 0.0000000e+00, 0.0000000e+00, 0.0000000e+00,\n",
              "       0.0000000e+00, 0.0000000e+00, 0.0000000e+00, 0.0000000e+00,\n",
              "       0.0000000e+00, 0.0000000e+00, 0.0000000e+00, 0.0000000e+00,\n",
              "       0.0000000e+00, 0.0000000e+00, 0.0000000e+00, 0.0000000e+00,\n",
              "       0.0000000e+00, 0.0000000e+00, 0.0000000e+00, 0.0000000e+00,\n",
              "       0.0000000e+00, 0.0000000e+00, 0.0000000e+00, 0.0000000e+00,\n",
              "       0.0000000e+00, 0.0000000e+00, 0.0000000e+00, 0.0000000e+00,\n",
              "       0.0000000e+00, 0.0000000e+00, 0.0000000e+00, 0.0000000e+00,\n",
              "       0.0000000e+00, 0.0000000e+00, 0.0000000e+00, 0.0000000e+00,\n",
              "       0.0000000e+00, 0.0000000e+00, 0.0000000e+00, 0.0000000e+00,\n",
              "       0.0000000e+00, 0.0000000e+00, 0.0000000e+00, 0.0000000e+00,\n",
              "       0.0000000e+00, 0.0000000e+00, 0.0000000e+00, 0.0000000e+00,\n",
              "       0.0000000e+00, 0.0000000e+00, 0.0000000e+00, 0.0000000e+00,\n",
              "       0.0000000e+00, 0.0000000e+00, 0.0000000e+00, 0.0000000e+00,\n",
              "       0.0000000e+00, 0.0000000e+00, 0.0000000e+00, 0.0000000e+00,\n",
              "       0.0000000e+00, 0.0000000e+00, 0.0000000e+00, 0.0000000e+00,\n",
              "       0.0000000e+00, 0.0000000e+00, 0.0000000e+00, 0.0000000e+00,\n",
              "       0.0000000e+00, 0.0000000e+00, 0.0000000e+00, 0.0000000e+00,\n",
              "       0.0000000e+00, 0.0000000e+00, 0.0000000e+00, 0.0000000e+00],\n",
              "      dtype=float32)"
            ]
          },
          "metadata": {},
          "execution_count": 104
        }
      ]
    },
    {
      "cell_type": "code",
      "source": [
        "y_valid[3]"
      ],
      "metadata": {
        "colab": {
          "base_uri": "https://localhost:8080/"
        },
        "id": "8Tt-iindhQhY",
        "outputId": "e62b76e6-55c4-4f80-e5ed-582e50754993"
      },
      "execution_count": null,
      "outputs": [
        {
          "output_type": "execute_result",
          "data": {
            "text/plain": [
              "array([1., 0., 0., 0., 0., 0., 0., 0., 0., 0.], dtype=float32)"
            ]
          },
          "metadata": {},
          "execution_count": 105
        }
      ]
    },
    {
      "cell_type": "code",
      "source": [
        "model=Sequential()\n",
        "model.add(Dense(64,activation='sigmoid',input_shape=(784,)))\n",
        "model.add(Dense(10,activation='softmax'))\n",
        "model.summary()"
      ],
      "metadata": {
        "id": "3YiYcnl4hVQx",
        "colab": {
          "base_uri": "https://localhost:8080/"
        },
        "outputId": "f5f4af8f-093e-48b7-a79f-50f3616b0e8d"
      },
      "execution_count": null,
      "outputs": [
        {
          "output_type": "stream",
          "name": "stdout",
          "text": [
            "Model: \"sequential\"\n",
            "_________________________________________________________________\n",
            " Layer (type)                Output Shape              Param #   \n",
            "=================================================================\n",
            " dense (Dense)               (None, 64)                50240     \n",
            "                                                                 \n",
            " dense_1 (Dense)             (None, 10)                650       \n",
            "                                                                 \n",
            "=================================================================\n",
            "Total params: 50,890\n",
            "Trainable params: 50,890\n",
            "Non-trainable params: 0\n",
            "_________________________________________________________________\n"
          ]
        }
      ]
    },
    {
      "cell_type": "code",
      "source": [
        "model.compile(loss='mean_squared_error',optimizer=SGD(learning_rate=0.01),metrics=['accuracy'])"
      ],
      "metadata": {
        "id": "SwJ3-839hiWs"
      },
      "execution_count": null,
      "outputs": []
    },
    {
      "cell_type": "code",
      "source": [
        "history=model.fit(x_train,y_train,batch_size=128,epochs=150,verbose=1)"
      ],
      "metadata": {
        "id": "lZtwb0oThqX8",
        "colab": {
          "base_uri": "https://localhost:8080/"
        },
        "outputId": "cf960c98-65af-4fb9-b6e0-43d3fe0e3e0d"
      },
      "execution_count": null,
      "outputs": [
        {
          "output_type": "stream",
          "name": "stdout",
          "text": [
            "Epoch 1/150\n",
            "469/469 [==============================] - 2s 3ms/step - loss: 0.0922 - accuracy: 0.0992\n",
            "Epoch 2/150\n",
            "469/469 [==============================] - 1s 2ms/step - loss: 0.0915 - accuracy: 0.0992\n",
            "Epoch 3/150\n",
            "469/469 [==============================] - 1s 2ms/step - loss: 0.0911 - accuracy: 0.0992\n",
            "Epoch 4/150\n",
            "469/469 [==============================] - 2s 3ms/step - loss: 0.0908 - accuracy: 0.0992\n",
            "Epoch 5/150\n",
            "469/469 [==============================] - 2s 3ms/step - loss: 0.0906 - accuracy: 0.0992\n",
            "Epoch 6/150\n",
            "469/469 [==============================] - 2s 4ms/step - loss: 0.0905 - accuracy: 0.1000\n",
            "Epoch 7/150\n",
            "469/469 [==============================] - 2s 5ms/step - loss: 0.0904 - accuracy: 0.1022\n",
            "Epoch 8/150\n",
            "469/469 [==============================] - 2s 4ms/step - loss: 0.0903 - accuracy: 0.1022\n",
            "Epoch 9/150\n",
            "469/469 [==============================] - 2s 4ms/step - loss: 0.0902 - accuracy: 0.1022\n",
            "Epoch 10/150\n",
            "469/469 [==============================] - 1s 3ms/step - loss: 0.0902 - accuracy: 0.1022\n",
            "Epoch 11/150\n",
            "469/469 [==============================] - 1s 2ms/step - loss: 0.0901 - accuracy: 0.1022\n",
            "Epoch 12/150\n",
            "469/469 [==============================] - 1s 2ms/step - loss: 0.0901 - accuracy: 0.1110\n",
            "Epoch 13/150\n",
            "469/469 [==============================] - 1s 2ms/step - loss: 0.0901 - accuracy: 0.1124\n",
            "Epoch 14/150\n",
            "469/469 [==============================] - 1s 3ms/step - loss: 0.0900 - accuracy: 0.1124\n",
            "Epoch 15/150\n",
            "469/469 [==============================] - 1s 2ms/step - loss: 0.0900 - accuracy: 0.1124\n",
            "Epoch 16/150\n",
            "469/469 [==============================] - 1s 2ms/step - loss: 0.0900 - accuracy: 0.1124\n",
            "Epoch 17/150\n",
            "469/469 [==============================] - 1s 2ms/step - loss: 0.0900 - accuracy: 0.1124\n",
            "Epoch 18/150\n",
            "469/469 [==============================] - 1s 2ms/step - loss: 0.0900 - accuracy: 0.1124\n",
            "Epoch 19/150\n",
            "469/469 [==============================] - 1s 2ms/step - loss: 0.0900 - accuracy: 0.1124\n",
            "Epoch 20/150\n",
            "469/469 [==============================] - 1s 2ms/step - loss: 0.0900 - accuracy: 0.1124\n",
            "Epoch 21/150\n",
            "469/469 [==============================] - 1s 2ms/step - loss: 0.0900 - accuracy: 0.1124\n",
            "Epoch 22/150\n",
            "469/469 [==============================] - 1s 2ms/step - loss: 0.0900 - accuracy: 0.1124\n",
            "Epoch 23/150\n",
            "469/469 [==============================] - 1s 2ms/step - loss: 0.0900 - accuracy: 0.1124\n",
            "Epoch 24/150\n",
            "469/469 [==============================] - 1s 3ms/step - loss: 0.0900 - accuracy: 0.1124\n",
            "Epoch 25/150\n",
            "469/469 [==============================] - 1s 3ms/step - loss: 0.0900 - accuracy: 0.1124\n",
            "Epoch 26/150\n",
            "469/469 [==============================] - 1s 2ms/step - loss: 0.0900 - accuracy: 0.1124\n",
            "Epoch 27/150\n",
            "469/469 [==============================] - 1s 2ms/step - loss: 0.0900 - accuracy: 0.1124\n",
            "Epoch 28/150\n",
            "469/469 [==============================] - 1s 2ms/step - loss: 0.0900 - accuracy: 0.1124\n",
            "Epoch 29/150\n",
            "469/469 [==============================] - 1s 2ms/step - loss: 0.0900 - accuracy: 0.1124\n",
            "Epoch 30/150\n",
            "469/469 [==============================] - 1s 2ms/step - loss: 0.0900 - accuracy: 0.1124\n",
            "Epoch 31/150\n",
            "469/469 [==============================] - 1s 2ms/step - loss: 0.0900 - accuracy: 0.1124\n",
            "Epoch 32/150\n",
            "469/469 [==============================] - 1s 2ms/step - loss: 0.0900 - accuracy: 0.1124\n",
            "Epoch 33/150\n",
            "469/469 [==============================] - 1s 2ms/step - loss: 0.0900 - accuracy: 0.1124\n",
            "Epoch 34/150\n",
            "469/469 [==============================] - 1s 2ms/step - loss: 0.0900 - accuracy: 0.1124\n",
            "Epoch 35/150\n",
            "469/469 [==============================] - 1s 3ms/step - loss: 0.0900 - accuracy: 0.1124\n",
            "Epoch 36/150\n",
            "469/469 [==============================] - 1s 3ms/step - loss: 0.0900 - accuracy: 0.1124\n",
            "Epoch 37/150\n",
            "469/469 [==============================] - 1s 2ms/step - loss: 0.0900 - accuracy: 0.1124\n",
            "Epoch 38/150\n",
            "469/469 [==============================] - 1s 2ms/step - loss: 0.0900 - accuracy: 0.1124\n",
            "Epoch 39/150\n",
            "469/469 [==============================] - 1s 3ms/step - loss: 0.0900 - accuracy: 0.1124\n",
            "Epoch 40/150\n",
            "469/469 [==============================] - 2s 5ms/step - loss: 0.0900 - accuracy: 0.1124\n",
            "Epoch 41/150\n",
            "469/469 [==============================] - 2s 5ms/step - loss: 0.0900 - accuracy: 0.1124\n",
            "Epoch 42/150\n",
            "469/469 [==============================] - 1s 2ms/step - loss: 0.0900 - accuracy: 0.1124\n",
            "Epoch 43/150\n",
            "469/469 [==============================] - 1s 3ms/step - loss: 0.0900 - accuracy: 0.1124\n",
            "Epoch 44/150\n",
            "469/469 [==============================] - 1s 2ms/step - loss: 0.0900 - accuracy: 0.1124\n",
            "Epoch 45/150\n",
            "469/469 [==============================] - 1s 2ms/step - loss: 0.0900 - accuracy: 0.1124\n",
            "Epoch 46/150\n",
            "469/469 [==============================] - 1s 2ms/step - loss: 0.0900 - accuracy: 0.1124\n",
            "Epoch 47/150\n",
            "469/469 [==============================] - 1s 2ms/step - loss: 0.0900 - accuracy: 0.1124\n",
            "Epoch 48/150\n",
            "469/469 [==============================] - 1s 2ms/step - loss: 0.0900 - accuracy: 0.1124\n",
            "Epoch 49/150\n",
            "469/469 [==============================] - 1s 2ms/step - loss: 0.0900 - accuracy: 0.1124\n",
            "Epoch 50/150\n",
            "469/469 [==============================] - 1s 2ms/step - loss: 0.0900 - accuracy: 0.1124\n",
            "Epoch 51/150\n",
            "469/469 [==============================] - 1s 2ms/step - loss: 0.0900 - accuracy: 0.1124\n",
            "Epoch 52/150\n",
            "469/469 [==============================] - 1s 2ms/step - loss: 0.0900 - accuracy: 0.1124\n",
            "Epoch 53/150\n",
            "469/469 [==============================] - 1s 2ms/step - loss: 0.0900 - accuracy: 0.1124\n",
            "Epoch 54/150\n",
            "469/469 [==============================] - 1s 2ms/step - loss: 0.0900 - accuracy: 0.1124\n",
            "Epoch 55/150\n",
            "469/469 [==============================] - 1s 2ms/step - loss: 0.0900 - accuracy: 0.1124\n",
            "Epoch 56/150\n",
            "469/469 [==============================] - 1s 2ms/step - loss: 0.0900 - accuracy: 0.1124\n",
            "Epoch 57/150\n",
            "469/469 [==============================] - 1s 3ms/step - loss: 0.0900 - accuracy: 0.1124\n",
            "Epoch 58/150\n",
            "469/469 [==============================] - 1s 3ms/step - loss: 0.0900 - accuracy: 0.1124\n",
            "Epoch 59/150\n",
            "469/469 [==============================] - 1s 3ms/step - loss: 0.0900 - accuracy: 0.1124\n",
            "Epoch 60/150\n",
            "469/469 [==============================] - 1s 2ms/step - loss: 0.0900 - accuracy: 0.1124\n",
            "Epoch 61/150\n",
            "469/469 [==============================] - 1s 2ms/step - loss: 0.0900 - accuracy: 0.1124\n",
            "Epoch 62/150\n",
            "469/469 [==============================] - 1s 2ms/step - loss: 0.0900 - accuracy: 0.1124\n",
            "Epoch 63/150\n",
            "469/469 [==============================] - 1s 2ms/step - loss: 0.0900 - accuracy: 0.1124\n",
            "Epoch 64/150\n",
            "469/469 [==============================] - 1s 2ms/step - loss: 0.0900 - accuracy: 0.1124\n",
            "Epoch 65/150\n",
            "469/469 [==============================] - 1s 2ms/step - loss: 0.0900 - accuracy: 0.1124\n",
            "Epoch 66/150\n",
            "469/469 [==============================] - 1s 3ms/step - loss: 0.0900 - accuracy: 0.1124\n",
            "Epoch 67/150\n",
            "469/469 [==============================] - 2s 4ms/step - loss: 0.0900 - accuracy: 0.1124\n",
            "Epoch 68/150\n",
            "469/469 [==============================] - 1s 3ms/step - loss: 0.0900 - accuracy: 0.1124\n",
            "Epoch 69/150\n",
            "469/469 [==============================] - 1s 2ms/step - loss: 0.0900 - accuracy: 0.1124\n",
            "Epoch 70/150\n",
            "469/469 [==============================] - 1s 2ms/step - loss: 0.0900 - accuracy: 0.1124\n",
            "Epoch 71/150\n",
            "469/469 [==============================] - 1s 2ms/step - loss: 0.0900 - accuracy: 0.1124\n",
            "Epoch 72/150\n",
            "469/469 [==============================] - 1s 2ms/step - loss: 0.0900 - accuracy: 0.1124\n",
            "Epoch 73/150\n",
            "469/469 [==============================] - 1s 2ms/step - loss: 0.0900 - accuracy: 0.1124\n",
            "Epoch 74/150\n",
            "469/469 [==============================] - 1s 2ms/step - loss: 0.0900 - accuracy: 0.1124\n",
            "Epoch 75/150\n",
            "469/469 [==============================] - 1s 2ms/step - loss: 0.0900 - accuracy: 0.1124\n",
            "Epoch 76/150\n",
            "469/469 [==============================] - 1s 2ms/step - loss: 0.0900 - accuracy: 0.1124\n",
            "Epoch 77/150\n",
            "469/469 [==============================] - 1s 2ms/step - loss: 0.0900 - accuracy: 0.1124\n",
            "Epoch 78/150\n",
            "469/469 [==============================] - 1s 2ms/step - loss: 0.0900 - accuracy: 0.1124\n",
            "Epoch 79/150\n",
            "469/469 [==============================] - 1s 3ms/step - loss: 0.0900 - accuracy: 0.1124\n",
            "Epoch 80/150\n",
            "469/469 [==============================] - 1s 3ms/step - loss: 0.0900 - accuracy: 0.1124\n",
            "Epoch 81/150\n",
            "469/469 [==============================] - 3s 5ms/step - loss: 0.0900 - accuracy: 0.1124\n",
            "Epoch 82/150\n",
            "469/469 [==============================] - 2s 3ms/step - loss: 0.0900 - accuracy: 0.1124\n",
            "Epoch 83/150\n",
            "469/469 [==============================] - 2s 5ms/step - loss: 0.0900 - accuracy: 0.1124\n",
            "Epoch 84/150\n",
            "469/469 [==============================] - 2s 4ms/step - loss: 0.0900 - accuracy: 0.1124\n",
            "Epoch 85/150\n",
            "469/469 [==============================] - 1s 3ms/step - loss: 0.0900 - accuracy: 0.1124\n",
            "Epoch 86/150\n",
            "469/469 [==============================] - 1s 2ms/step - loss: 0.0900 - accuracy: 0.1124\n",
            "Epoch 87/150\n",
            "469/469 [==============================] - 1s 2ms/step - loss: 0.0900 - accuracy: 0.1124\n",
            "Epoch 88/150\n",
            "469/469 [==============================] - 1s 2ms/step - loss: 0.0900 - accuracy: 0.1124\n",
            "Epoch 89/150\n",
            "469/469 [==============================] - 1s 3ms/step - loss: 0.0900 - accuracy: 0.1124\n",
            "Epoch 90/150\n",
            "469/469 [==============================] - 2s 4ms/step - loss: 0.0900 - accuracy: 0.1124\n",
            "Epoch 91/150\n",
            "469/469 [==============================] - 2s 3ms/step - loss: 0.0900 - accuracy: 0.1124\n",
            "Epoch 92/150\n",
            "469/469 [==============================] - 1s 2ms/step - loss: 0.0900 - accuracy: 0.1124\n",
            "Epoch 93/150\n",
            "469/469 [==============================] - 1s 2ms/step - loss: 0.0900 - accuracy: 0.1124\n",
            "Epoch 94/150\n",
            "469/469 [==============================] - 1s 2ms/step - loss: 0.0900 - accuracy: 0.1124\n",
            "Epoch 95/150\n",
            "469/469 [==============================] - 1s 2ms/step - loss: 0.0900 - accuracy: 0.1124\n",
            "Epoch 96/150\n",
            "469/469 [==============================] - 1s 2ms/step - loss: 0.0900 - accuracy: 0.1124\n",
            "Epoch 97/150\n",
            "469/469 [==============================] - 1s 2ms/step - loss: 0.0900 - accuracy: 0.1124\n",
            "Epoch 98/150\n",
            "469/469 [==============================] - 1s 2ms/step - loss: 0.0900 - accuracy: 0.1124\n",
            "Epoch 99/150\n",
            "469/469 [==============================] - 1s 2ms/step - loss: 0.0900 - accuracy: 0.1124\n",
            "Epoch 100/150\n",
            "469/469 [==============================] - 1s 2ms/step - loss: 0.0900 - accuracy: 0.1124\n",
            "Epoch 101/150\n",
            "469/469 [==============================] - 1s 2ms/step - loss: 0.0900 - accuracy: 0.1124\n",
            "Epoch 102/150\n",
            "469/469 [==============================] - 1s 2ms/step - loss: 0.0900 - accuracy: 0.1124\n",
            "Epoch 103/150\n",
            "469/469 [==============================] - 1s 2ms/step - loss: 0.0900 - accuracy: 0.1124\n",
            "Epoch 104/150\n",
            "469/469 [==============================] - 1s 2ms/step - loss: 0.0900 - accuracy: 0.1124\n",
            "Epoch 105/150\n",
            "469/469 [==============================] - 1s 2ms/step - loss: 0.0900 - accuracy: 0.1124\n",
            "Epoch 106/150\n",
            "469/469 [==============================] - 1s 2ms/step - loss: 0.0900 - accuracy: 0.1124\n",
            "Epoch 107/150\n",
            "469/469 [==============================] - 1s 2ms/step - loss: 0.0900 - accuracy: 0.1124\n",
            "Epoch 108/150\n",
            "469/469 [==============================] - 1s 2ms/step - loss: 0.0900 - accuracy: 0.1124\n",
            "Epoch 109/150\n",
            "469/469 [==============================] - 1s 2ms/step - loss: 0.0900 - accuracy: 0.1124\n",
            "Epoch 110/150\n",
            "469/469 [==============================] - 1s 2ms/step - loss: 0.0900 - accuracy: 0.1124\n",
            "Epoch 111/150\n",
            "469/469 [==============================] - 1s 2ms/step - loss: 0.0900 - accuracy: 0.1124\n",
            "Epoch 112/150\n",
            "469/469 [==============================] - 1s 2ms/step - loss: 0.0900 - accuracy: 0.1124\n",
            "Epoch 113/150\n",
            "469/469 [==============================] - 1s 2ms/step - loss: 0.0900 - accuracy: 0.1124\n",
            "Epoch 114/150\n",
            "469/469 [==============================] - 1s 2ms/step - loss: 0.0900 - accuracy: 0.1124\n",
            "Epoch 115/150\n",
            "469/469 [==============================] - 1s 2ms/step - loss: 0.0900 - accuracy: 0.1124\n",
            "Epoch 116/150\n",
            "469/469 [==============================] - 1s 2ms/step - loss: 0.0900 - accuracy: 0.1124\n",
            "Epoch 117/150\n",
            "469/469 [==============================] - 1s 2ms/step - loss: 0.0900 - accuracy: 0.1124\n",
            "Epoch 118/150\n",
            "469/469 [==============================] - 1s 2ms/step - loss: 0.0900 - accuracy: 0.1124\n",
            "Epoch 119/150\n",
            "469/469 [==============================] - 2s 3ms/step - loss: 0.0900 - accuracy: 0.1124\n",
            "Epoch 120/150\n",
            "469/469 [==============================] - 2s 4ms/step - loss: 0.0900 - accuracy: 0.1124\n",
            "Epoch 121/150\n",
            "469/469 [==============================] - 2s 3ms/step - loss: 0.0900 - accuracy: 0.1124\n",
            "Epoch 122/150\n",
            "469/469 [==============================] - 1s 2ms/step - loss: 0.0900 - accuracy: 0.1124\n",
            "Epoch 123/150\n",
            "469/469 [==============================] - 1s 2ms/step - loss: 0.0900 - accuracy: 0.1124\n",
            "Epoch 124/150\n",
            "469/469 [==============================] - 1s 2ms/step - loss: 0.0900 - accuracy: 0.1124\n",
            "Epoch 125/150\n",
            "469/469 [==============================] - 1s 2ms/step - loss: 0.0900 - accuracy: 0.1124\n",
            "Epoch 126/150\n",
            "469/469 [==============================] - 1s 2ms/step - loss: 0.0900 - accuracy: 0.1124\n",
            "Epoch 127/150\n",
            "469/469 [==============================] - 1s 2ms/step - loss: 0.0900 - accuracy: 0.1124\n",
            "Epoch 128/150\n",
            "469/469 [==============================] - 1s 2ms/step - loss: 0.0900 - accuracy: 0.1124\n",
            "Epoch 129/150\n",
            "469/469 [==============================] - 1s 2ms/step - loss: 0.0900 - accuracy: 0.1124\n",
            "Epoch 130/150\n",
            "469/469 [==============================] - 1s 2ms/step - loss: 0.0900 - accuracy: 0.1124\n",
            "Epoch 131/150\n",
            "469/469 [==============================] - 1s 2ms/step - loss: 0.0900 - accuracy: 0.1124\n",
            "Epoch 132/150\n",
            "469/469 [==============================] - 1s 2ms/step - loss: 0.0900 - accuracy: 0.1124\n",
            "Epoch 133/150\n",
            "469/469 [==============================] - 1s 2ms/step - loss: 0.0900 - accuracy: 0.1124\n",
            "Epoch 134/150\n",
            "469/469 [==============================] - 1s 3ms/step - loss: 0.0900 - accuracy: 0.1124\n",
            "Epoch 135/150\n",
            "469/469 [==============================] - 1s 2ms/step - loss: 0.0900 - accuracy: 0.1124\n",
            "Epoch 136/150\n",
            "469/469 [==============================] - 1s 2ms/step - loss: 0.0900 - accuracy: 0.1124\n",
            "Epoch 137/150\n",
            "469/469 [==============================] - 1s 2ms/step - loss: 0.0900 - accuracy: 0.1124\n",
            "Epoch 138/150\n",
            "469/469 [==============================] - 1s 2ms/step - loss: 0.0900 - accuracy: 0.1124\n",
            "Epoch 139/150\n",
            "469/469 [==============================] - 1s 2ms/step - loss: 0.0900 - accuracy: 0.1124\n",
            "Epoch 140/150\n",
            "469/469 [==============================] - 1s 3ms/step - loss: 0.0900 - accuracy: 0.1124\n",
            "Epoch 141/150\n",
            "469/469 [==============================] - 1s 2ms/step - loss: 0.0900 - accuracy: 0.1124\n",
            "Epoch 142/150\n",
            "469/469 [==============================] - 1s 2ms/step - loss: 0.0900 - accuracy: 0.1124\n",
            "Epoch 143/150\n",
            "469/469 [==============================] - 1s 3ms/step - loss: 0.0900 - accuracy: 0.1124\n",
            "Epoch 144/150\n",
            "469/469 [==============================] - 1s 2ms/step - loss: 0.0900 - accuracy: 0.1124\n",
            "Epoch 145/150\n",
            "469/469 [==============================] - 1s 2ms/step - loss: 0.0900 - accuracy: 0.1124\n",
            "Epoch 146/150\n",
            "469/469 [==============================] - 1s 2ms/step - loss: 0.0900 - accuracy: 0.1124\n",
            "Epoch 147/150\n",
            "469/469 [==============================] - 2s 4ms/step - loss: 0.0900 - accuracy: 0.1124\n",
            "Epoch 148/150\n",
            "469/469 [==============================] - 3s 5ms/step - loss: 0.0900 - accuracy: 0.1124\n",
            "Epoch 149/150\n",
            "469/469 [==============================] - 1s 2ms/step - loss: 0.0900 - accuracy: 0.1124\n",
            "Epoch 150/150\n",
            "469/469 [==============================] - 1s 2ms/step - loss: 0.0900 - accuracy: 0.1124\n"
          ]
        }
      ]
    },
    {
      "cell_type": "code",
      "source": [
        "plt.plot(history.history['accuracy'])\n",
        "\n",
        "plt.title('model accuracy')\n",
        "plt.ylabel('accuracy')\n",
        "plt.xlabel('epoch')\n",
        "plt.show()"
      ],
      "metadata": {
        "colab": {
          "base_uri": "https://localhost:8080/",
          "height": 295
        },
        "id": "8T1H7KWhhw_a",
        "outputId": "39f2b160-cfe0-4069-b2c2-68705df6cdce"
      },
      "execution_count": null,
      "outputs": [
        {
          "output_type": "display_data",
          "data": {
            "text/plain": [
              "<Figure size 432x288 with 1 Axes>"
            ],
            "image/png": "[encoded data removed]"
          },
          "metadata": {
            "needs_background": "light"
          }
        }
      ]
    },
    {
      "cell_type": "code",
      "source": [
        "plt.plot(history.history['loss'])\n",
        "\n",
        "plt.title('loss vs epoch')\n",
        "plt.ylabel('loss')\n",
        "plt.xlabel('epoch')\n",
        "plt.show()"
      ],
      "metadata": {
        "colab": {
          "base_uri": "https://localhost:8080/",
          "height": 295
        },
        "id": "7C2i8hGii532",
        "outputId": "ffb24047-b4b5-472c-efd2-159705800b10"
      },
      "execution_count": null,
      "outputs": [
        {
          "output_type": "display_data",
          "data": {
            "text/plain": [
              "<Figure size 432x288 with 1 Axes>"
            ],
            "image/png": "[encoded data removed]"
          },
          "metadata": {
            "needs_background": "light"
          }
        }
      ]
    }
  ]
}