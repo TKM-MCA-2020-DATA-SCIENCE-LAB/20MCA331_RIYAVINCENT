{
  "nbformat": 4,
  "nbformat_minor": 0,
  "metadata": {
    "colab": {
      "name": "naive bayes 2(heart)",
      "provenance": []
    },
    "kernelspec": {
      "name": "python3",
      "display_name": "Python 3"
    },
    "language_info": {
      "name": "python"
    }
  },
  "cells": [
    {
      "cell_type": "code",
      "execution_count": null,
      "metadata": {
        "id": "ze7nibMYqYBV"
      },
      "outputs": [],
      "source": [
        "import numpy as np\n",
        "import pandas as pd\n",
        "import matplotlib.pyplot as plt\n",
        "import seaborn as sns\n"
      ]
    },
    {
      "cell_type": "code",
      "source": [
        "dt=pd.read_csv('/content/Heart_Disease_Prediction.csv')\n",
        "from pandas.core.common import standardize_mapping\n",
        "from sklearn.preprocessing import StandardScaler\n",
        "scalar=StandardScaler()\n",
        "scalar.fit(dt.drop('Heart Disease',axis=1))\n",
        "ab=scalar.transform(dt.drop('Heart Disease',axis=1))\n",
        "new_dt=pd.DataFrame(ab,columns=dt.columns[:-1])\n",
        "from sklearn.model_selection  import train_test_split\n",
        "x=new_dt#=dt.Class\n",
        "y=dt['Heart Disease']"
      ],
      "metadata": {
        "id": "nRzB6IoCqww0"
      },
      "execution_count": null,
      "outputs": []
    },
    {
      "cell_type": "code",
      "source": [
        "x_train,x_test,y_train,y_test=train_test_split(x,y,test_size= 0.3,random_state=90)\n"
      ],
      "metadata": {
        "id": "j781sfEdrMUj"
      },
      "execution_count": null,
      "outputs": []
    },
    {
      "cell_type": "code",
      "source": [
        "from sklearn.naive_bayes import GaussianNB,BernoulliNB,CategoricalNB\n",
        "from sklearn.metrics import confusion_matrix,classification_report\n",
        "from sklearn.metrics import accuracy_score"
      ],
      "metadata": {
        "id": "GT0yAvR9sj5b"
      },
      "execution_count": null,
      "outputs": []
    },
    {
      "cell_type": "code",
      "source": [
        "scores=[]\n",
        "classifier=GaussianNB()\n",
        "classifier.fit(x_train,y_train)\n",
        "y_pred=classifier.predict(x_test)\n",
        "scores.append(accuracy_score(y_test,y_pred))\n",
        "cm=confusion_matrix(y_test,y_pred)\n",
        "cm"
      ],
      "metadata": {
        "colab": {
          "base_uri": "https://localhost:8080/"
        },
        "id": "lOGOWctyslOC",
        "outputId": "bbea3525-04f6-4fb1-a86a-c46d50a79ac6"
      },
      "execution_count": null,
      "outputs": [
        {
          "output_type": "execute_result",
          "data": {
            "text/plain": [
              "array([[40,  4],\n",
              "       [ 6, 31]])"
            ]
          },
          "metadata": {},
          "execution_count": 26
        }
      ]
    },
    {
      "cell_type": "code",
      "source": [
        "print(classification_report(y_test,y_pred))"
      ],
      "metadata": {
        "colab": {
          "base_uri": "https://localhost:8080/"
        },
        "id": "b3bkfbyhsqsq",
        "outputId": "c278c84a-3352-4d44-cf6c-1d727b9e4d6e"
      },
      "execution_count": null,
      "outputs": [
        {
          "output_type": "stream",
          "name": "stdout",
          "text": [
            "              precision    recall  f1-score   support\n",
            "\n",
            "     Absence       0.87      0.91      0.89        44\n",
            "    Presence       0.89      0.84      0.86        37\n",
            "\n",
            "    accuracy                           0.88        81\n",
            "   macro avg       0.88      0.87      0.88        81\n",
            "weighted avg       0.88      0.88      0.88        81\n",
            "\n"
          ]
        }
      ]
    },
    {
      "cell_type": "code",
      "source": [
        ""
      ],
      "metadata": {
        "id": "mSKn9ujGsumh"
      },
      "execution_count": null,
      "outputs": []
    }
  ]
}